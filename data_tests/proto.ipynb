{
 "cells": [
  {
   "cell_type": "code",
   "execution_count": null,
   "metadata": {},
   "outputs": [],
   "source": [
    "import pandas as pd"
   ]
  },
  {
   "cell_type": "code",
   "execution_count": null,
   "metadata": {},
   "outputs": [],
   "source": [
    "data = pd.read_csv(\"D:\\Libraries\\Arkiralor's Documents\\Programs\\gits\\DjangoORMPractice\\datasets\\pokemon.csv\")\n",
    "data.head(5)"
   ]
  },
  {
   "cell_type": "code",
   "execution_count": null,
   "metadata": {},
   "outputs": [],
   "source": [
    "dlist = data.to_dict(orient='records')\n",
    "dlist[88]"
   ]
  },
  {
   "cell_type": "code",
   "execution_count": null,
   "metadata": {},
   "outputs": [],
   "source": [
    "for item in dlist:\n",
    "    print(item['pokedex_id'],'. ',item)\n",
    "    for key in item.keys():\n",
    "        if item[f'{key}'] == 'NaN' or item[f'{key}'] == None:\n",
    "            item[f'{key}'] = 1\n",
    "    print(item['pokedex_id'],'. ',item)\n",
    "    print('-------------------------------------------------------------')"
   ]
  }
 ],
 "metadata": {
  "interpreter": {
   "hash": "51a8e55f52fe2f4b0df3c02a74ee9d939568c500a096572d5390ba2392ab75fc"
  },
  "kernelspec": {
   "display_name": "Python 3.9.3 64-bit ('env': venv)",
   "language": "python",
   "name": "python3"
  },
  "language_info": {
   "codemirror_mode": {
    "name": "ipython",
    "version": 3
   },
   "file_extension": ".py",
   "mimetype": "text/x-python",
   "name": "python",
   "nbconvert_exporter": "python",
   "pygments_lexer": "ipython3",
   "version": "3.9.3"
  },
  "orig_nbformat": 4
 },
 "nbformat": 4,
 "nbformat_minor": 2
}
